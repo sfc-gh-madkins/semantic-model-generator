{
 "cells": [
  {
   "cell_type": "code",
   "execution_count": 1,
   "id": "7d985db2-df8a-411a-8f20-0a5842f9613e",
   "metadata": {},
   "outputs": [
    {
     "name": "stderr",
     "output_type": "stream",
     "text": [
      "SnowflakeLoginOptions() is in private preview since 0.2.0. Do not use it in production. \n"
     ]
    }
   ],
   "source": [
    "from semantic_model_generator.generate_model import generate_base_semantic_model_from_snowflake"
   ]
  },
  {
   "cell_type": "code",
   "execution_count": 2,
   "id": "3cbbb1cf-8f4e-4b8f-ae3d-1b90c518bcd2",
   "metadata": {},
   "outputs": [
    {
     "name": "stderr",
     "output_type": "stream",
     "text": [
      "\u001b[32m2024-05-21 15:04:13.631\u001b[0m | \u001b[1mINFO    \u001b[0m | \u001b[36msemantic_model_generator.generate_model\u001b[0m:\u001b[36mraw_schema_to_semantic_context\u001b[0m:\u001b[36m179\u001b[0m - \u001b[1mPulling column information from FQNParts(database='AIRLINE_FEATURE_STORE', schema_name='FEATURE_STORE', table='US_FLIGHT_SCHEDULES')\u001b[0m\n",
      "\u001b[32m2024-05-21 15:04:20.616\u001b[0m | \u001b[1mINFO    \u001b[0m | \u001b[36msemantic_model_generator.generate_model\u001b[0m:\u001b[36mgenerate_base_semantic_model_from_snowflake\u001b[0m:\u001b[36m302\u001b[0m - \u001b[1mSemantic model saved to semantic_model_generator/output_models/20240521150412_us_flight_schedules.yaml\u001b[0m\n"
     ]
    }
   ],
   "source": [
    "TABLES = ['AIRLINE_FEATURE_STORE.FEATURE_STORE.US_FLIGHT_SCHEDULES']\n",
    "SEMANTIC_MODEL_NAME = 'US_FLIGHT_SCHEDULES'\n",
    "\n",
    "generate_base_semantic_model_from_snowflake(\n",
    "    base_tables=TABLES,\n",
    "    semantic_model_name=SEMANTIC_MODEL_NAME)"
   ]
  },
  {
   "cell_type": "code",
   "execution_count": null,
   "id": "ea892daa-4d59-4c04-afa2-1e17eb28b2e6",
   "metadata": {},
   "outputs": [],
   "source": []
  }
 ],
 "metadata": {
  "kernelspec": {
   "display_name": "Python 3 (ipykernel)",
   "language": "python",
   "name": "python3"
  },
  "language_info": {
   "codemirror_mode": {
    "name": "ipython",
    "version": 3
   },
   "file_extension": ".py",
   "mimetype": "text/x-python",
   "name": "python",
   "nbconvert_exporter": "python",
   "pygments_lexer": "ipython3",
   "version": "3.9.16"
  }
 },
 "nbformat": 4,
 "nbformat_minor": 5
}
